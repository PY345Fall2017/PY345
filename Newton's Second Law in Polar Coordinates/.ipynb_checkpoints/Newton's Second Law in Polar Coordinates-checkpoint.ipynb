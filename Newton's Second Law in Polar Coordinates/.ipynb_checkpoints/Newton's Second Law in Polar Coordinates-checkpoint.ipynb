{
 "cells": [
  {
   "cell_type": "markdown",
   "metadata": {
    "slideshow": {
     "slide_type": "skip"
    }
   },
   "source": [
    "$$\\require{cancel}$$\n",
    "\n",
    "$$\\require{enclose}$$"
   ]
  },
  {
   "cell_type": "markdown",
   "metadata": {
    "slideshow": {
     "slide_type": "slide"
    }
   },
   "source": [
    "# Newton's Second Law in Polar Coordinates\n",
    "\n",
    "## PY345"
   ]
  },
  {
   "cell_type": "markdown",
   "metadata": {
    "slideshow": {
     "slide_type": "slide"
    }
   },
   "source": [
    "## Puzzle of the Day\n",
    "\n"
   ]
  },
  {
   "cell_type": "markdown",
   "metadata": {
    "slideshow": {
     "slide_type": "slide"
    }
   },
   "source": [
    "## Derivation of Newton's Second Law in Polar Coordinates\n",
    "\n",
    "In cartesian coordinates\n",
    "\n",
    "$\\dot{\\vec{r}}=\\frac{d}{dt} (x\\hat{x}+y\\hat{y}+z\\hat{z})$\n",
    "\n",
    "$=\\dot{x}\\hat{x}+x\\dot{\\hat{x}}+\\dot{y}\\hat{y}+y\\dot{\\hat{y}}+\\dot{z}\\hat{z}+z\\dot{\\hat{z}}=\\dot{x}\\hat{x}+x\\cancelto{0}{\\dot{\\hat{x}}}+\\dot{y}\\hat{y}+y\\cancelto{0}{\\dot{\\hat{y}}}+\\dot{z}\\hat{z}+z\\cancelto{0}{\\dot{\\hat{z}}}$\n",
    "\n",
    "$=\\dot{x}\\hat{x}+\\dot{y}\\hat{y}+\\dot{z}\\hat{z}$.\n",
    "\n",
    "In polar coordinates, \n",
    "\n",
    "$\\vec{r}=r\\hat{r}$, \n",
    "\n",
    "$\\dot{\\vec{r}}=\\dot{r}\\hat{r}+r\\enclose{circle}{\\dot{\\hat{r}}}\\Leftarrow $ not zero.\n",
    "\n",
    "As the position of an object changes in polar coordinates, the direction of $\\hat{r}$ changes to always point toward the object.  Therefore $\\dot{\\hat{r}}\\ne 0$.  To determine what it is, imagine a point moving along a unit circle from $\\vec{r}_i=\\hat{r}_i$ to $\\vec{r}_f=\\hat{r}_f$. \n",
    "\n",
    "![delta r](deltar.png)\n",
    "\n",
    "The change in position $\\Delta \\hat{r}=\\hat{r}_f-\\hat{r}_i$ has a length of $\\Delta \\phi$ and points in the $\\hat{\\phi}$ direction (counterclockwise, though technically it only points *exactly* in the $\\hat{\\phi}$ direction when $\\Delta \\phi$ approaches zero).  \n",
    "\n",
    "Therefore,\n",
    "\n",
    "$\\Delta \\hat{r}=\\Delta \\phi \\hat{\\phi}$\n",
    "\n",
    "$\\dot{\\hat{r}}=\\lim_{\\Delta t \\to 0}\\frac{\\Delta \\hat{r}}{\\Delta t}=\\lim_{\\Delta t\\to 0}\\frac{\\Delta \\phi\\hat{\\phi}}{\\Delta t}=\\dot{\\phi}\\hat{\\phi}$.\n",
    "\n",
    "Now we can evaluate $\\dot{\\vec{r}}$ *and* $\\ddot{\\vec{r}}$ in polar coordinates.\n",
    "\n",
    "$\\dot{\\vec{r}}=\\dot{r}\\hat{r}+r\\dot{\\hat{r}}=\\dot{r}\\hat{r}+r\\dot{\\phi}\\hat{\\phi}$\n",
    "\n",
    "$\\ddot{\\vec{r}}=\\ddot{r}\\hat{r}+\\dot{r}\\dot{\\hat{r}}+\\dot{r}\\dot{\\phi}\\hat{\\phi}+r\\ddot{\\phi}\\hat{\\phi}+r\\dot{\\phi}\\dot{\\hat{\\phi}}$\n",
    "\n",
    "We are not done yet, though, because now we have to figure out what $\\dot{\\hat{\\phi}}$ is.  To do that, let's imagine a point moving along a unit circle again.\n",
    "\n",
    "![delta phi 1](deltaphi1.png)\n",
    "\n",
    "It may not be obvious how $\\Delta \\hat{\\phi}$ was determined in this figure, so let's move $\\hat{\\phi}_f$ so that its tail touches that of $\\hat{\\phi}_i$.  \n",
    "\n",
    "![delta phi 2](deltaphi2.png)\n",
    "\n",
    "You can see that the two $\\Delta \\hat{\\phi}$ vectors are parallel, which means that they are the same vector (recall that vectors are determined by length and orientation, not by where they start and end).  You may also notice that those two triangles are similar triangles, which means that the angle between $\\hat{\\phi}_i$ and $\\hat{\\phi}_f$ is $\\Delta \\phi$.  Lastly, when drawn from the midpoint of the arc, $\\Delta\\hat{\\phi}$ points toward the center of the circle.  Therefore,\n",
    "\n",
    "$\\Delta \\hat{\\phi}=-\\Delta\\phi\\hat{r}$\n",
    "\n",
    "$\\dot{\\hat{\\phi}}=\\lim_{\\Delta t\\to 0}\\frac{\\Delta \\hat{\\phi}}{\\Delta t}=\\lim_{\\Delta t\\to 0}\\frac{-\\Delta \\phi\\hat{r}}{\\Delta t}=-\\dot{\\phi}\\hat{r}$.\n",
    "\n",
    "Putting it all together, \n",
    "\n",
    "$\\ddot{\\vec{r}}=\\ddot{r}\\hat{r}+\\dot{r}\\dot{\\phi}\\hat{\\phi}+\\dot{r}\\dot{\\phi}\\hat{\\phi}+r\\ddot{\\phi}\\hat{\\phi}-r\\dot{\\phi}^2\\hat{r}$\n",
    "\n",
    "$=\\left (\\ddot{r}-r\\dot{\\phi}^2\\right )\\hat{r}+\\left (r\\ddot{\\phi}+2\\dot{r}\\dot{\\phi}\\right )\\hat{\\phi}$.\n",
    "\n",
    "From this we can write Newton's Second Law in polar coordinates.\n",
    "\n",
    "$$F_r=m\\left (\\ddot{r}-r\\dot{\\phi}^2\\right )$$\n",
    "\n",
    "$$F_\\phi=m\\left (r\\ddot{\\phi}+2\\dot{r}\\dot{\\phi}\\right )$$\n",
    "\n"
   ]
  },
  {
   "cell_type": "markdown",
   "metadata": {
    "collapsed": true,
    "slideshow": {
     "slide_type": "slide"
    }
   },
   "source": [
    "## Practice\n",
    "---\n",
    "\n",
    "A skateboard of mass $m$ is on a semicircular half-pipe with radius $R$.  Determine an expression for $\\phi(t)$.\n",
    "\n",
    "![half pipe](halfpipe.png)"
   ]
  },
  {
   "cell_type": "markdown",
   "metadata": {
    "slideshow": {
     "slide_type": "subslide"
    }
   },
   "source": [
    "## Solution\n",
    "---\n",
    "\n",
    "### Assumptions\n",
    "\n",
    "- the skateboard rolls without friction\n",
    "- the skateboard starts from rest at an angle $\\phi_0$\n",
    "- air resistance is negligible\n",
    "\n",
    "### Diagrams\n",
    "\n",
    "![interaction diagram and free body diagram for skateboard](skateboarddiagrams.png)\n",
    "\n",
    "### Analysis\n",
    "\n",
    "Newton's Laws in Polar Coordinates are\n",
    "\n",
    "$$F_r=m\\left (\\ddot{r}-r\\dot{\\phi}^2\\right )$$\n",
    "\n",
    "$$F_\\phi=m\\left (r\\ddot{\\phi}+2\\dot{r}\\dot{\\phi}\\right )$$\n",
    "\n",
    "Applying these to the free body diagram we get,\n",
    "\n",
    "$F_{es}^g\\cos\\phi-F_{hs}^n=m(\\ddot{r}-r\\dot{\\phi}^2)$\n",
    "\n",
    "$mg\\cos\\phi-F_{hs}^n=\\cancelto{0}{m\\ddot{r}}-mr\\dot{\\phi}^2$ (r-coordinate is constant)\n",
    "\n",
    "for the r-direction and \n",
    "\n",
    "$-F_{es}^g\\sin\\phi=m(r\\ddot{\\phi}+2\\dot{r}\\dot{\\phi})$\n",
    "\n",
    "$-\\cancel{m}g\\sin\\phi=\\cancel{m}\\cancelto{R}{r}\\ddot{\\phi}+2\\cancel{m}\\cancelto{0}{\\dot{r}}\\dot{\\phi}$\n",
    "\n",
    "$\\ddot{\\phi}=-\\frac{g}{R}\\sin\\phi$\n",
    "\n",
    "in the $\\phi$-direction.  This does not have any obvious solutions.  One option is to determine the resulting motion numerically, which we will do soon.  Another option is to make another assumption about the motion, e.g. that $\\phi$ is always small.  If $\\phi\\ll 1\\text{rad}$, then\n",
    "\n",
    "$\\sin\\phi\\approx \\phi$\n",
    "\n",
    "$\\ddot{\\phi}\\approx -\\frac{g}{R}\\phi$.\n",
    "\n",
    "For what function do you get the same thing back with a negative sign after differentiating it twice?  Sine and Cosine.\n",
    "\n",
    "$\\phi(t)=A\\sin\\left (\\sqrt{\\frac{g}{R}}t\\right )+B\\cos\\left (\\sqrt{\\frac{g}{R}}t\\right )$\n",
    "\n",
    "Let's check that this does in fact satisfy $\\ddot{\\phi}= -\\frac{g}{R}\\phi$.  Let $\\omega=\\sqrt{\\frac{g}{R}}$ for brevity.\n",
    "\n",
    "$\\dot{\\phi}(t)=A\\omega\\cos(\\omega t)-B\\omega\\sin(\\omega t)$\n",
    "\n",
    "$\\ddot{\\phi}(t)=-A\\omega^2\\sin(\\omega t)-B\\omega^2\\cos(\\omega t)=-\\omega^2(A\\sin(\\omega t)+B\\cos(\\omega t))=-\\frac{g}{R}\\phi(t)$\n",
    "\n",
    "It works, so now let's use the initial conditions ($\\phi(0)=\\phi_0$ and $\\dot(\\phi)(0)=0$) to determine the constants A and B.\n",
    "\n",
    "$\\phi(0)=A\\sin(0)+B\\cos(0)=\\phi_0$\n",
    "\n",
    "$B=\\phi_0$\n",
    "\n",
    "$\\dot{\\phi}(0)=A\\omega\\cos(0)-\\phi_0\\omega\\sin(0)=0$\n",
    "\n",
    "$A\\omega=0\\Rightarrow A=0$\n",
    "\n",
    "Therefore,\n",
    "\n",
    "$\\phi(t)=\\phi_0\\cos(\\sqrt{\\frac{g}{R}}t)$.\n",
    "\n",
    "### Check\n",
    "\n",
    "The units of $\\sqrt{\\frac{g}{R}}$ are $\\sqrt{\\frac{\\text{distance}/\\text{time}^2}{\\text{distance}}}=\\frac{1}{\\text{time}}$, so the argument of the cosine function has no units.  Whatever the units of $\\phi_0$ will also be the units of $\\phi(t)$.\n",
    "\n",
    "Let's check some limits to see if the answer makes sense.  If this were to happen in the absence of gravity (i.e. $g=0$), then $\\phi(t)=\\phi_0$, which makes sense.  You also get that same result if $R\\rightarrow \\infty$, which corresponds to a completely flat halfpipe.\n",
    "\n",
    "### Interpretation\n",
    "\n",
    "Our answer indicates to us that the skateboard oscillates back and forth, which makes sense.  It also tells us that the frequency of the oscillation depends on the strength of gravity and the size of the halfpipe.\n"
   ]
  },
  {
   "cell_type": "code",
   "execution_count": 8,
   "metadata": {
    "slideshow": {
     "slide_type": "subslide"
    }
   },
   "outputs": [
    {
     "data": {
      "text/html": [
       "<div id=\"glowscript\" class=\"glowscript\"></div>"
      ],
      "text/plain": [
       "<IPython.core.display.HTML object>"
      ]
     },
     "metadata": {},
     "output_type": "display_data"
    },
    {
     "data": {
      "application/javascript": [
       "window.__context = { glowscript_container: $(\"#glowscript\").removeAttr(\"id\")}"
      ],
      "text/plain": [
       "<IPython.core.display.Javascript object>"
      ]
     },
     "metadata": {},
     "output_type": "display_data"
    }
   ],
   "source": [
    "from __future__ import division, print_function\n",
    "from vpython import *\n",
    "\n",
    "#initial conditions\n",
    "R=3.0\n",
    "phi=pi/4.0\n",
    "dphi=0\n",
    "g=9.8\n",
    "t=0\n",
    "tmax=10\n",
    "dt=0.01\n",
    "\n",
    "#draw halfpipe and skateboard\n",
    "scene=canvas(center=vec(0,1,0))\n",
    "halfpipe=extrusion(path=[vec(0,R-0.1,-1),vec(0,R-0.1,1)], shape=shapes.arc(radius=3,angle1=-pi, angle2=0))\n",
    "skateboard=box(pos=vec(R*sin(phi),R*(1-cos(phi)),0),axis=vec(cos(phi),sin(phi),0),length=0.5, width=0.2, height=0.1,color=color.yellow)\n",
    "\n",
    "#create graphs\n",
    "xGraph=graph(title=\"x vs. t (blue=exact, red=approximate)\", xtitle=\"t (s)\", ytitle=\"x (m)\", xmin=0, xmax=tmax)\n",
    "xdata=gcurve(color=color.blue)\n",
    "approximatedata=gcurve(color=color.red)\n",
    "\n",
    "while t<=tmax:\n",
    "    rate(1/dt) #make sure the looping speed doesn't exceed 100 iterations per second\n",
    "    ddphi=-(g/R)*sin(phi) #calculate new value of angular acceleration\n",
    "    dphi=dphi+ddphi*dt #calculate new value of angular speed\n",
    "    phi=phi+dphi*dt #calculate new angle\n",
    "    skateboard.pos=vec(R*sin(phi),R*(1-cos(phi)),0) #redraw skateboard\n",
    "    skateboard.axis=vec(cos(phi),sin(phi),0) #reorient skateboard\n",
    "    xdata.plot(t,skateboard.pos.x) #plot the x-coordinate\n",
    "    approximatedata.plot(t,R*sin(pi/4*cos(sqrt(g/R)*t))) #plot the approximate x-coordinate\n",
    "    t=t+dt #increment the time\n"
   ]
  },
  {
   "cell_type": "code",
   "execution_count": null,
   "metadata": {
    "collapsed": true
   },
   "outputs": [],
   "source": []
  }
 ],
 "metadata": {
  "celltoolbar": "Slideshow",
  "kernelspec": {
   "display_name": "VPython",
   "language": "python",
   "name": "vpython"
  },
  "language_info": {
   "codemirror_mode": {
    "name": "ipython",
    "version": 2
   },
   "file_extension": ".py",
   "mimetype": "text/x-python",
   "name": "python",
   "nbconvert_exporter": "python",
   "pygments_lexer": "ipython2",
   "version": "2.7.13"
  },
  "livereveal": {
   "scroll": true,
   "theme": "sky"
  }
 },
 "nbformat": 4,
 "nbformat_minor": 2
}
