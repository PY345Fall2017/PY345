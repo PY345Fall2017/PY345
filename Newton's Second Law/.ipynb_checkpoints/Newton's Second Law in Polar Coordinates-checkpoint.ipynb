{
 "cells": [
  {
   "cell_type": "markdown",
   "metadata": {
    "slideshow": {
     "slide_type": "skip"
    }
   },
   "source": [
    "$$\\require{cancel}$$\n",
    "\n",
    "$$\\require{enclose}$$"
   ]
  },
  {
   "cell_type": "markdown",
   "metadata": {
    "slideshow": {
     "slide_type": "slide"
    }
   },
   "source": [
    "# Newton's Second Law\n",
    "## PY345"
   ]
  },
  {
   "cell_type": "markdown",
   "metadata": {
    "slideshow": {
     "slide_type": "slide"
    }
   },
   "source": [
    "## Puzzle of the Day\n",
    "\n",
    "A ball launched vertically from a horizontally moving cart will land back in the cart.  Will it still land back in the cart if the track is at an angle?\n",
    "\n",
    "<center>\n",
    "![ball from cart](https://www.wired.com/wp-content/uploads/2017/04/vballshoot_1.gif)\n",
    "</center>"
   ]
  },
  {
   "cell_type": "markdown",
   "metadata": {
    "slideshow": {
     "slide_type": "slide"
    }
   },
   "source": [
    "## Newton's Second Law\n",
    "\n",
    "- $\\sum \\vec{F}=m\\ddot{\\vec{r}} \\Leftrightarrow \\begin{cases} \\sum F_x=m\\ddot{x}\\\\ \\sum F_y=m\\ddot{y}\\\\ \\sum F_z=m\\ddot{z}\\end{cases}$ \n",
    "- Recommended habits:\n",
    "    - sketch a picture, an interaction diagram, and a free body diagram\n",
    "    - label forces as $F_\\text{dealer feeler}^\\text{type}$\n",
    "    - types of forces: **n**ormal, **k**inetic friction, **s**tatic friction, **c**ontact, **g**ravitational\n",
    "    - indicate coordinate axes"
   ]
  },
  {
   "cell_type": "markdown",
   "metadata": {
    "slideshow": {
     "slide_type": "slide"
    }
   },
   "source": [
    "<span class=\"w3-border\">\n",
    "\n",
    "## Practice\n",
    "---\n",
    "\n",
    "A box of mass $m$ slides down a ramp that makes an angle $\\theta$ with the horizontal.  The coefficient of kinetic friction between the box and the ramp is $\\mu_k$.  Determine an expression for the position of the box along the ramp as a function of time.  Check that your answer makes sense by checking units and by examining the limit $\\theta\\rightarrow 90^\\circ$.  Lastly, determine if there are situations for which your answer is not valid.\n",
    "\n",
    "</span>"
   ]
  },
  {
   "cell_type": "markdown",
   "metadata": {
    "slideshow": {
     "slide_type": "subslide"
    }
   },
   "source": [
    "## Solution\n",
    "---\n",
    "\n",
    "## Assumptions\n",
    "\n",
    "- the box is a point mass with mass $m$\n",
    "- the ramp makes an angle $\\theta$ with the horizontal\n",
    "- the coefficient of kinetic friction between the box and the ramp is $\\mu_k$\n",
    "- the ramp is steep enough that the box is sliding\n",
    "\n",
    "### Diagrams\n",
    "\n",
    "Let's start by sketching a picture, an interaction diagram, and a free body diagram.\n",
    "\n",
    "<center>![box on incline](boxonincline.png)</center>\n",
    "\n",
    "### Analysis\n",
    "\n",
    "Looking at the forces in the x-direction, the equation for Newton's Second Law is\n",
    "\n",
    "$F_{eb}^g\\sin\\theta-F_{rb}^k=m\\ddot{x}$,\n",
    "\n",
    "which after substituting $F_{eb}^g=mg$ and $F_{rb}^k=\\mu_kF_{rb}^n$ becomes\n",
    "\n",
    "$mg\\sin\\theta-\\mu_kF_{rb}^n=m\\ddot{x}$.\n",
    "\n",
    "We can't determine $\\ddot{x}$ until we find an expression for $F_{rb}^n$, which we can do by examining the forces in the y-direction.\n",
    "\n",
    "$F_{rb}^n-F_{eb}^g\\cos\\theta=m\\cancelto{0}{\\ddot{y}}$\n",
    "$F_{rb}^n=mg\\cos\\theta$\n",
    "\n",
    "We substitute this into the equation for the x-direction.\n",
    "\n",
    "$\\cancel{m}g\\sin\\theta-\\mu_k\\cancel{m}g\\cos\\theta=\\cancel{m}\\ddot{x}$\n",
    "\n",
    "$\\ddot{x}=g(\\sin\\theta-\\mu_k\\cos\\theta)\\Rightarrow \\frac dv dt=g(\\sin\\theta-\\mu_k\\cos\\theta)$\n",
    "\n",
    "$dv=g(\\sin\\theta-\\mu_k\\cos\\theta)dt\\Rightarrow \\int\\limits_{v_0}^{v(t)}dv=\\int\\limits_0^tg(\\sin\\theta-\\mu_k\\cos\\theta)dt'$\n",
    "\n",
    "$v(t)-v_0=g(\\sin\\theta-\\mu_k\\cos\\theta)t$\n",
    "\n",
    "$v(t)=\\frac dx dt=g(\\sin\\theta-\\mu_k\\cos\\theta)t+v_0$\n",
    "\n",
    "$dx=\\left [g(\\sin\\theta-\\mu_k\\cos\\theta)t+v_0\\right ]dt\\Rightarrow \\int\\limits_{x_0}^{x(t)}dx=\\int\\limits_0^t\\left [g(\\sin\\theta-\\mu_k\\cos\\theta)t+v_0\\right ]dt'$\n",
    "\n",
    "$x(t)-x_0=\\frac 1 2 g(\\sin\\theta-\\mu_k\\cos\\theta)t^2+v_0t$\n",
    "\n",
    "$x(t)=\\frac 1 2 g(\\sin\\theta-\\mu_k\\cos\\theta)t^2+v_0t+x_0$\n",
    "\n",
    "### Check\n",
    "\n",
    "The expression in parentheses has no units, so the units of the first term are $\\frac{\\text{distance}}{\\text{time}^2}\\times \\text{time}^2=\\text{distance}$.  The second term has units of $\\frac{\\text{distance}}{\\text{time}}\\times\\text{time}=\\text{distance}$, so the units check out.  In the limit $\\theta\\rightarrow 90^\\circ$, $\\sin\\theta\\rightarrow 1$ and $\\cos\\theta\\rightarrow 0$.  Therefore $x(t)$ becomes\n",
    "\n",
    "$x(t)=\\frac 1 2 g(1-0)t^2+v_0t+x_0$.\n",
    "\n",
    "This is the equation of motion of an object in freefall.  This makes sense because if the ramp is vertical, then the box will no longer be sliding; it will just be falling.  (If you are wondering why there is no negative sign in front of $\\frac 1 2 gt^2$, recall that the +x direction is pointing downward in this scenario.)\n",
    "\n",
    "### Interpretation\n",
    "\n",
    "The answer only makes sense for $\\sin\\theta-\\mu_k\\cos\\theta\\ge 0$.  Otherwise $\\ddot{x}$ is negative, which means that the box accelerates up the ramp.\n",
    "\n",
    "$\\sin\\theta-\\mu_k\\cos\\theta\\ge 0$\n",
    "\n",
    "$\\sin\\theta\\ge \\mu_k\\cos\\theta$\n",
    "\n",
    "$\\tan\\theta\\ge \\mu_k$\n",
    "\n",
    "$\\theta\\ge \\tan^{-1}\\mu_k$\n",
    "\n",
    "</details>"
   ]
  },
  {
   "cell_type": "markdown",
   "metadata": {
    "slideshow": {
     "slide_type": "slide"
    }
   },
   "source": [
    "## Practice\n",
    "---\n",
    "\n",
    "A ball launched vertically from a horizontally moving cart will land back in the cart.\n",
    "\n",
    "<center>\n",
    "![ball from cart](https://www.wired.com/wp-content/uploads/2017/04/vballshoot_1.gif)\n",
    "</center>\n",
    "\n",
    "Will it still land back in the cart if the track is angled?"
   ]
  },
  {
   "cell_type": "markdown",
   "metadata": {
    "slideshow": {
     "slide_type": "subslide"
    }
   },
   "source": [
    "## Solution\n",
    "___\n",
    "\n",
    "### Assumptions\n",
    "\n",
    "- the cart and ball are point masses\n",
    "- the cart and ball have masses $m_c$ and $m_b$, respectively\n",
    "- the cart starts at $x_{0c}=y_{0c}=0$ and the ball starts at $x_{0b}=0$ and $y_{0b}\\ne 0$\n",
    "- at the moment the cart launches the ball, the horizontal velocity of both is $v_{0x}$ and the vertical velocity of the ball is $v_{0y}$\n",
    "- the track is at an angle $\\theta$ from the horizontal\n",
    "- air resistance is negligible\n",
    "\n",
    "### Diagrams\n",
    "\n",
    "<center><img src=\"http://drive.google.com/uc?export=view&id=0B0r8FpBWZWBjN0FBc216ajF0Um8\"></center>\n",
    "\n",
    "### Analysis\n",
    "\n",
    "The Newton's Second Law equations applied to the cart are\n",
    "\n",
    "$F_{ec}^g\\sin\\theta=m_c\\ddot{x_c}\\Rightarrow \\cancel{m_c}g\\sin\\theta=\\cancel{m_c}\\ddot{x_c}$\n",
    "\n",
    "and \n",
    "\n",
    "$F_{rc}^n-F_{ec}^g\\cos\\theta=m_c\\cancelto{0}{\\ddot{y_c}}$.\n",
    "\n",
    "For the ball,\n",
    "\n",
    "$F_{eb}^g\\sin\\theta=m_b\\ddot{x_b}\\Rightarrow \\cancel{m_b}g\\sin\\theta=\\cancel{m_b}\\ddot{x_b}$\n",
    "\n",
    "and \n",
    "\n",
    "$F_{eb}^g\\cos\\theta=m_b\\ddot{y_b} \\Rightarrow \\cancel{m_b}g\\cos\\theta=\\cancel{m_b}\\ddot{y_b}$.\n",
    "\n",
    "### Check\n",
    "\n",
    "In the limit $\\theta\\rightarrow 0^{\\circ}$, $\\ddot{x_c}=\\ddot{x_b}=0$, which means that the acceleration is constant.  In the y-direction, $\\ddot{y_b}=-g$.  These are exactly what we expect.  In the limit $\\theta\\rightarrow 90^{\\circ}$, $\\ddot{x_b}=\\ddot{x_c}=g$ and $\\ddot{y_b}=0$.  These are also what we expect.\n",
    "\n",
    "### Interpretation\n",
    "\n",
    "Notice that $\\ddot{x_c}=\\ddot{x_b}$.  Since they start at the same x-coordinate and have the same initial x-velocity, this means that regardless of what happens in the y-direction, the x-coordinates of the cart and the ball will always be the same.  Therefore the ball must fall back into the cart.\n",
    "\n",
    "<center>\n",
    "![ball from cart on angled track](https://www.wired.com/wp-content/uploads/2017/04/cartballramp.gif)\n",
    "</center>\n"
   ]
  },
  {
   "cell_type": "markdown",
   "metadata": {
    "collapsed": true,
    "slideshow": {
     "slide_type": "slide"
    }
   },
   "source": [
    "## Practice\n",
    "---\n",
    "\n",
    "A tennis player serves a ball at an upward angle.  Devise an expression that can be used to determine whether the ball goes over the net if initial quantities are given.   "
   ]
  },
  {
   "cell_type": "markdown",
   "metadata": {
    "slideshow": {
     "slide_type": "subslide"
    }
   },
   "source": [
    "## Solution\n",
    "___\n",
    "\n",
    "### Assumptions\n",
    "\n",
    "- the ball is a point mass\n",
    "- the ball is launched from $x_0=0$ and $y_0=H$ with speed $v_0$ at an angle $\\theta$\n",
    "- the net has a height $h$ and is a horizontal distance $D$ away from the tennis player\n",
    "- air resistance is negligible\n",
    "\n",
    "### Diagrams\n",
    "\n",
    "<center><img src=\"http://drive.google.com/uc?export=view&id=0B0r8FpBWZWBjcVl3NEMtN1gza3M\"></center>\n",
    "\n",
    "### Analysis\n",
    "\n",
    "From the free body diagram, we determine that \n",
    "\n",
    "$0=m\\ddot{x}\\Rightarrow \\ddot{x}=0$\n",
    "\n",
    "and \n",
    "\n",
    "$-F_{eb}^g=m\\ddot{y}\\Rightarrow -\\cancel{m}g=m\\ddot{y}\\Rightarrow \\ddot{y}=-g$.\n",
    "\n",
    "We integrate the x-equation twice to get $x(t)$.\n",
    "\n",
    "$\\ddot{x}=\\dot{v_x}=\\frac dv_x dt =0\\Rightarrow \\int\\limits_{v_0\\cos\\theta}^{v_x(t)}=v_x(t)-v_0\\cos\\theta=0$\n",
    "\n",
    "$v_x(t)=v_0\\cos\\theta \\Rightarrow v_x(t)=\\frac dx dt\\Rightarrow dx=v_0\\cos\\theta dt$\n",
    "\n",
    "$\\int\\limits_0^{x(t)}dx=\\int\\limits_0^t v_0\\cos\\theta dt'$\n",
    "\n",
    "$x(t)=v_0\\cos\\theta t$\n",
    "\n",
    "We integrate $\\ddot{y}$ twice to get $y(t)$.\n",
    "\n",
    "$\\ddot{y}=\\frac dv_y dt=-g\\Rightarrow \\int\\limits_{v_0\\sin\\theta}^{v_y(t)}=-\\int\\limits_0^tg dt'$\n",
    "\n",
    "$v_y(t)-v_0\\sin\\theta=-gt\\Rightarrow v_y(t)=-gt+v_0\\sin\\theta$\n",
    "\n",
    "$v_y(t)=\\frac dy dt \\Rightarrow \\int\\limits_H^{y(t)}=\\int\\limits_0^t(-gt+v_0\\sin\\theta)dt'$\n",
    "\n",
    "$y(t)-H=-\\frac 1 2 gt^2+v_0\\sin\\theta t$\n",
    "\n",
    "$y(t)=-\\frac 1 2 gt^2+v_0\\sin\\theta t+H$\n",
    "\n",
    "$t$ is not a known quantity, so we need to determine it.  We can do so by looking at the x-direction.  Specifically, when $x(t)=D$:\n",
    "\n",
    "$D=v_0\\cos\\theta t\\Rightarrow t=\\frac{D}{v_0\\cos\\theta}$\n",
    "\n",
    "Substitute this expression for $t$ into $y(t)$.\n",
    "\n",
    "$y=-\\frac 1 2 g\\left (\\frac{D}{v_0\\cos\\theta}\\right )^2+v_0\\sin\\theta\\left (\\frac{D}{v_0\\cos\\theta}\\right )+H$\n",
    "\n",
    "$y=-\\frac 1 2 g\\left (\\frac{D}{v_0\\cos\\theta}\\right )^2+D\\tan\\theta+H$\n",
    "\n",
    "### Check\n",
    "\n",
    "First, since this is a complicated expression, let's check the units.  The units of $\\frac{D}{v_0\\cos\\theta}$ are distance/speed=time.  The units of the first terms are then $\\frac{\\text{distance}}{\\text{time}^2}\\times \\text{time}^2=\\text{distance}$.  The second and third terms also have units of distance, so it checks out.\n",
    "\n",
    "We can also imagine what happens if $D=0$.  In that case, the ball should be at its original height by the time it passes over the net.  If we substitute $D=0$, that is in fact what we get.\n",
    "\n",
    "### Interpretation\n",
    "\n",
    "If the serve speed $v_0$ is small enough, then $y$ ends up being a negative number.  What does this mean?  It means that the ball would be underneath the net by the time it reaches the net.  This clearly doesn't make any sense.  The reason we got that result, though, is because we assumed that the tennis ball would be in free fall the entire time.  If the ball hits the ground, then it is no longer in free fall, which changes the very equations we used to derive this expression in the first place."
   ]
  },
  {
   "cell_type": "code",
   "execution_count": 14,
   "metadata": {
    "scrolled": false,
    "slideshow": {
     "slide_type": "subslide"
    }
   },
   "outputs": [
    {
     "data": {
      "text/html": [
       "<div id=\"glowscript\" class=\"glowscript\"></div>"
      ],
      "text/plain": [
       "<IPython.core.display.HTML object>"
      ]
     },
     "metadata": {},
     "output_type": "display_data"
    },
    {
     "data": {
      "application/javascript": [
       "window.__context = { glowscript_container: $(\"#glowscript\").removeAttr(\"id\")}"
      ],
      "text/plain": [
       "<IPython.core.display.Javascript object>"
      ]
     },
     "metadata": {},
     "output_type": "display_data"
    }
   ],
   "source": [
    "from __future__ import division, print_function\n",
    "from vpython import *\n",
    "\n",
    "#create the scene and draw the objects\n",
    "scene=canvas(title=\"Does the ball go over the net?\", center=vec(12,3,0))\n",
    "ball=sphere(pos=vec(0,3,0),radius=0.1, color=color.yellow, make_trail=True)\n",
    "court=box(pos=vec(12,0,0), length=24, width=11, height=0.05, color=color.green)\n",
    "net=box(pos=vec(12,0.5,0),length=0.05, width=11,height=1,color=color.white)\n",
    "\n",
    "#initial values\n",
    "v0=12 #initial speed in meters per second\n",
    "theta=20.0*pi/180 #angle from horizontal converted into radians\n",
    "ball.v=vec(v0*cos(theta),v0*sin(theta),0) #initial velocity of ball\n",
    "ball.a=vec(0,-9.8, 0) #acceleration of ball in meters per second squared\n",
    "t=0 #initial time\n",
    "dt=0.01 #time step\n",
    "\n",
    "#create graph\n",
    "posGraph=graph(xtitle=\"t (s)\", ytitle=\"x (blue), y(red) (m)\", xmin=0, ymin=0, ymax=24)\n",
    "\n",
    "#create curves\n",
    "xdata=gcurve(color=color.blue, graph=posGraph)\n",
    "ydata=gcurve(color=color.red, graph=posGraph)\n",
    "\n",
    "while ball.pos.y>=0: #continue running the code until the ball hits the ground\n",
    "    rate(1/dt) #this makes sure the looping speed does not exceed 1/dt=100 iterations per second\n",
    "    ball.v=ball.v+ball.a*dt #update the velocity\n",
    "    ball.pos=ball.pos+ball.v*dt #update the position of the ball\n",
    "    t=t+dt #increment the time\n",
    "    xdata.plot(t,ball.pos.x) #plot the x-coordinate\n",
    "    ydata.plot(t,ball.pos.y) #plot the y-coordinate"
   ]
  },
  {
   "cell_type": "markdown",
   "metadata": {
    "slideshow": {
     "slide_type": "slide"
    }
   },
   "source": [
    "## Practice \n",
    "---\n",
    "\n",
    "The setup below is called a Half Atwood Machine.  \n",
    "\n",
    "<center><img src=\"http://drive.google.com/uc?export=view&id=0B0r8FpBWZWBjYlA5eExLVlZFbFU\"></center>\n",
    "\n",
    "Determine the acceleration of the hanging block.  Do not neglect friction on the horizontal surface.\n"
   ]
  },
  {
   "cell_type": "markdown",
   "metadata": {
    "slideshow": {
     "slide_type": "subslide"
    }
   },
   "source": [
    "## Solution\n",
    "---\n",
    "\n",
    "### Assumptions\n",
    "\n",
    "- the blocks are point masses\n",
    "- the pulley is massless\n",
    "- the upper block has mass $m_1$ and the lower block has mass $m_2$\n",
    "- the coefficient of kinetic friction between the upper block and the floor underneath it is $\\mu_k$\n",
    "- the pulley spins without friction and the rope does not slip\n",
    "- the rope has no mass and does not stretch\n",
    "\n",
    "### Diagrams\n",
    "\n",
    "<center><img src=\"http://drive.google.com/uc?export=view&id=0B0r8FpBWZWBjVXVXZXc3ZzZ4cDQ\"></center>\n",
    "\n",
    "### Analysis\n",
    "\n",
    "According to the free body diagram for Block 1,\n",
    "\n",
    "$F_{s1}^c-F_{f1}^k=m_1\\ddot{x}\\Rightarrow F_{s1}^c-\\mu_kF_{f1}^n=m_1\\ddot{x}$\n",
    "\n",
    "and\n",
    "\n",
    "$F_{f1}^n-F_{e1}^g=m_1\\cancelto{0}{\\ddot{y}}\\Rightarrow F_{f1}^n=F_{e1}^g=m_1g$.\n",
    "\n",
    "These can be combined to yield \n",
    "\n",
    "$F_{s1}^c-\\mu_km_1g=m_1\\ddot{x}$.\n",
    "\n",
    "We can't quite determine $\\ddot{x}$ because $F_{s1}^c$ is unknown, so let's determine the equations from the free body diagram for the hanging block.\n",
    "\n",
    "$F_{s2}^c-F_{e2}^g=m_2\\ddot{y}\\Rightarrow F_{s2}^c=F_{e2}^g+m_2\\ddot{y}=m_2g+m_2\\ddot{y}$.\n",
    "\n",
    "Since the rope is massless, $F_{s2}^c=F_{s1}^c$ (i.e. the tension is constant throughout the rope).  Therefore we can substitute this into the combined equation for Block 1.\n",
    "\n",
    "$m_2g+m_2\\ddot{y}-\\mu_km_1g=m_1\\ddot{x}$\n",
    "\n",
    "While it may still seem like there are two unknowns ($\\ddot{x}$ and $\\ddot{y}$), if we assume that the rope does not stretch then $\\ddot{y}=-\\ddot{x}$ (the minus sign is due to the fact that the hanging block is accelerating in the -y direction).\n",
    "\n",
    "$m_2g+m_2\\ddot{y}-\\mu_km_1g=-m_1\\ddot{y}\\Rightarrow g(\\mu_km_1-m_2)=(m_1+m_2)\\ddot{y}$\n",
    "\n",
    "$\\ddot{y}=\\frac{g(\\mu_km_1-m_2)}{m_1+m_2}$\n",
    "\n",
    "### Check\n",
    "First, check units.  The units of the right hand side are $\\frac{(\\text{distance}/\\text{time}^2)(\\text{mass})}{\\text{mass}}=\\frac{\\text{distance}}{\\text{time}^2}$, which is an acceleration, so that checks out.\n",
    "\n",
    "Next, let's examine the situation in which $m_2\\gg m_1$.  In that case, $\\ddot{y}\\approx \\frac{g\\cancel{m_2}}{\\cancel{m_2}}=-g$.  This means that Block 2 is basically in free fall if its mass is much bigger than that of Block 1, which makes sense.\n",
    "\n",
    "### Interpretation\n",
    "\n",
    "According to this expression, the bigger $\\mu_k$ becomes the smaller the acceleration becomes, which is reasonable.  If $\\mu_k$ is too big, however, then $\\ddot{y}$ turns into a positive number, which doesn't make any sense.  This means that our analysis assumes that the numbers are such that Block 1 would actually be sliding to begin with."
   ]
  },
  {
   "cell_type": "code",
   "execution_count": null,
   "metadata": {
    "collapsed": true
   },
   "outputs": [],
   "source": []
  }
 ],
 "metadata": {
  "celltoolbar": "Slideshow",
  "kernelspec": {
   "display_name": "Python 2",
   "language": "python",
   "name": "python2"
  },
  "language_info": {
   "codemirror_mode": {
    "name": "ipython",
    "version": 2
   },
   "file_extension": ".py",
   "mimetype": "text/x-python",
   "name": "python",
   "nbconvert_exporter": "python",
   "pygments_lexer": "ipython2",
   "version": "2.7.13"
  },
  "livereveal": {
   "scroll": true,
   "theme": "sky"
  }
 },
 "nbformat": 4,
 "nbformat_minor": 2
}
